{
 "cells": [
  {
   "cell_type": "code",
   "execution_count": null,
   "id": "46bb224d",
   "metadata": {},
   "outputs": [],
   "source": [
    "!pip install pandas scipy matplotlib seaborn\n"
   ]
  },
  {
   "cell_type": "code",
   "execution_count": null,
   "id": "f3671d37",
   "metadata": {},
   "outputs": [],
   "source": [
    "    # 📦 Imports\n",
    "    import pandas as pd\n",
    "    import matplotlib.pyplot as plt\n",
    "    import seaborn as sns\n",
    "    from scipy.stats import f_oneway  # for ANOVA"
   ]
  },
  {
   "cell_type": "code",
   "execution_count": null,
   "id": "03465432",
   "metadata": {},
   "outputs": [],
   "source": [
    "benin = pd.read_csv(\"../data/benin_clean.csv\")\n",
    "togo = pd.read_csv(\"../data/togo_clean.csv\")\n",
    "sl = pd.read_csv(\"../data/sierra_leone_clean.csv\")\n"
   ]
  }
 ],
 "metadata": {
  "kernelspec": {
   "display_name": ".venv",
   "language": "python",
   "name": "python3"
  },
  "language_info": {
   "name": "python",
   "version": "3.12.7"
  }
 },
 "nbformat": 4,
 "nbformat_minor": 5
}
