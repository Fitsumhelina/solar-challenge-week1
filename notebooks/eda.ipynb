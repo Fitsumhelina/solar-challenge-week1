{
 "cells": [
  {
   "cell_type": "code",
   "execution_count": null,
   "id": "b177bbd6",
   "metadata": {},
   "outputs": [],
   "source": [
    "import pandas as pd\n",
    "import matplotlib.pyplot as plt\n",
    "import seaborn as sns\n",
    "df = pd.read_csv('../data/raw_analyst_ratings.csv', parse_dates=['date'])\n",
    "# Preview\n",
    "df.head()"
   ]
  },
  {
   "cell_type": "code",
   "execution_count": null,
   "id": "9f859aab",
   "metadata": {},
   "outputs": [],
   "source": [
    "df['headline_length'] = df['headline'].astype(str).apply(len)"
   ]
  },
  {
   "cell_type": "code",
   "execution_count": null,
   "id": "5bc94ac2",
   "metadata": {},
   "outputs": [],
   "source": [
    "print(df['headline_length'].describe())"
   ]
  },
  {
   "cell_type": "code",
   "execution_count": null,
   "id": "980cd70c",
   "metadata": {},
   "outputs": [],
   "source": [
    "publisher_counts = df['publisher'].value_counts()\n",
    "publisher_counts.plot(kind='bar', figsize=(10, 4), title='Articles by Publisher')\n",
    "plt.ylabel('Count')\n",
    "plt.show()"
   ]
  },
  {
   "cell_type": "code",
   "execution_count": null,
   "id": "2545339e",
   "metadata": {},
   "outputs": [],
   "source": [
    "df['date'] = pd.to_datetime(df['date'], format='%Y-%m-%d %H:%M:%S%z', errors='coerce')\n",
    "\n",
    "df['date'] = pd.to_datetime(df['date'], format='%Y-%m-%d %H:%M:%S%z', errors='coerce')\n",
    "df['date_only'] = df['date'].dt.date\n",
    "articles_by_day = df.groupby('date_only').size()\n",
    "articles_by_day.plot(figsize=(12, 5), title='Articles per Day')\n",
    "plt.ylabel('Article Count')\n",
    "plt.show()"
   ]
  },
  {
   "cell_type": "code",
   "execution_count": null,
   "id": "16822be8",
   "metadata": {},
   "outputs": [],
   "source": [
    "from wordcloud import WordCloud\n",
    "\n",
    "text = ' '.join(df['headline'].dropna())\n",
    "wordcloud = WordCloud(width=800, height=400, background_color='white').generate(text)\n",
    "plt.figure(figsize=(12, 6))\n",
    "plt.imshow(wordcloud, interpolation='bilinear')\n",
    "plt.axis('off')\n",
    "plt.title(\"Most Common Words in Headlines\")\n",
    "plt.show()"
   ]
  }
 ],
 "metadata": {
  "language_info": {
   "name": "python"
  }
 },
 "nbformat": 4,
 "nbformat_minor": 5
}
