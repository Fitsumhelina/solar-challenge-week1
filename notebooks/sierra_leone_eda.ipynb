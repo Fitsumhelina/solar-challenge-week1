{
 "cells": [
  {
   "cell_type": "code",
   "execution_count": null,
   "id": "be0a5ccf",
   "metadata": {},
   "outputs": [],
   "source": [
    "# 📦 Imports\n",
    "import pandas as pd\n",
    "import numpy as np\n",
    "import matplotlib.pyplot as plt\n",
    "import seaborn as sns\n",
    "from scipy.stats import zscore"
   ]
  },
  {
   "cell_type": "code",
   "execution_count": null,
   "id": "cb86ba1e",
   "metadata": {},
   "outputs": [],
   "source": [
    "# 📄 Load Data\n",
    "df = pd.read_csv(\"../data/sierraleone.csv\", parse_dates=[\"Timestamp\"])\n",
    "df.head()"
   ]
  },
  {
   "cell_type": "code",
   "execution_count": null,
   "id": "3b3164ac",
   "metadata": {},
   "outputs": [],
   "source": [
    "# 📊 Summary Stats + Nulls\n",
    "print(df.describe())\n",
    "print(\"\\nMissing Values:\\n\", df.isna().sum())"
   ]
  },
  {
   "cell_type": "code",
   "execution_count": null,
   "id": "961da0ed",
   "metadata": {},
   "outputs": [],
   "source": [
    "# 🔍 Outlier Detection\n",
    "cols_to_check = ['GHI', 'DNI', 'DHI', 'ModA', 'ModB', 'WS', 'WSgust']\n",
    "z_scores = df[cols_to_check].apply(zscore)\n",
    "outliers = (np.abs(z_scores) > 3).sum()\n",
    "print(\"\\nOutliers:\\n\", outliers)"
   ]
  },
  {
   "cell_type": "code",
   "execution_count": null,
   "id": "d464b487",
   "metadata": {},
   "outputs": [],
   "source": [
    "# 🧹 Clean Data\n",
    "df_clean = df.copy()\n",
    "df_clean[cols_to_check] = df_clean[cols_to_check].fillna(df_clean[cols_to_check].median())\n",
    "df_clean = df_clean[(np.abs(z_scores) <= 3).all(axis=1)]\n"
   ]
  },
  {
   "cell_type": "code",
   "execution_count": null,
   "id": "8423897e",
   "metadata": {},
   "outputs": [],
   "source": [
    "# 📈 Time Series Visuals\n",
    "df_clean.set_index(\"Timestamp\")[[\"GHI\", \"DNI\", \"DHI\", \"Tamb\"]].plot(figsize=(15,6))\n",
    "plt.title(\"Sierra Leone: Irradiance and Temperature Over Time\")\n",
    "plt.show()\n"
   ]
  },
  {
   "cell_type": "code",
   "execution_count": null,
   "id": "bc756837",
   "metadata": {},
   "outputs": [],
   "source": [
    "# 🧽 Cleaning Effect\n",
    "df_clean.groupby(\"Cleaning\")[[\"ModA\", \"ModB\"]].mean().plot(kind=\"bar\")\n",
    "plt.title(\"Sensor Output Before vs After Cleaning (Sierra Leone)\")\n",
    "plt.show()"
   ]
  },
  {
   "cell_type": "code",
   "execution_count": null,
   "id": "97911d73",
   "metadata": {},
   "outputs": [],
   "source": [
    "\n",
    "# 📉 Correlation Matrix\n",
    "plt.figure(figsize=(10,8))\n",
    "sns.heatmap(df_clean.corr(), annot=True, cmap=\"coolwarm\")\n",
    "plt.title(\"Correlation Heatmap (Sierra Leone)\")\n",
    "plt.show()\n"
   ]
  },
  {
   "cell_type": "code",
   "execution_count": null,
   "id": "25d45285",
   "metadata": {},
   "outputs": [],
   "source": [
    "# 🔄 Scatter: WS vs GHI\n",
    "sns.scatterplot(data=df_clean, x=\"WS\", y=\"GHI\")\n",
    "plt.title(\"Wind Speed vs GHI (Sierra Leone)\")\n",
    "plt.show()"
   ]
  },
  {
   "cell_type": "code",
   "execution_count": null,
   "id": "77880480",
   "metadata": {},
   "outputs": [],
   "source": [
    "# 🌡️ RH vs Tamb\n",
    "sns.scatterplot(data=df_clean, x=\"RH\", y=\"Tamb\")\n",
    "plt.title(\"RH vs Temperature (Sierra Leone)\")\n",
    "plt.show()"
   ]
  },
  {
   "cell_type": "code",
   "execution_count": null,
   "id": "c73084ef",
   "metadata": {},
   "outputs": [],
   "source": [
    "# ⚪ Bubble Plot\n",
    "plt.scatter(df_clean[\"Tamb\"], df_clean[\"GHI\"], s=df_clean[\"RH\"], alpha=0.5)\n",
    "plt.xlabel(\"Temperature\")\n",
    "plt.ylabel(\"GHI\")\n",
    "plt.title(\"GHI vs Tamb (Bubble Size = RH) – Sierra Leone\")\n",
    "plt.show()"
   ]
  },
  {
   "cell_type": "code",
   "execution_count": null,
   "id": "e3e339bd",
   "metadata": {},
   "outputs": [],
   "source": [
    "# 📁 Save Clean Data\n",
    "df_clean.to_csv(\"../data/sierra_leone_clean.csv\", index=False)"
   ]
  }
 ],
 "metadata": {
  "kernelspec": {
   "display_name": ".venv",
   "language": "python",
   "name": "python3"
  },
  "language_info": {
   "codemirror_mode": {
    "name": "ipython",
    "version": 3
   },
   "file_extension": ".py",
   "mimetype": "text/x-python",
   "name": "python",
   "nbconvert_exporter": "python",
   "pygments_lexer": "ipython3",
   "version": "3.12.7"
  }
 },
 "nbformat": 4,
 "nbformat_minor": 5
}
