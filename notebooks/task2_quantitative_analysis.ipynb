{
 "cells": [
  {
   "cell_type": "code",
   "execution_count": null,
   "id": "932cbfe1",
   "metadata": {},
   "outputs": [],
   "source": [
    "import pandas as pd\n",
    "import pandas_ta as ta\n",
    "import yfinance as yf\n",
    "import matplotlib.pyplot as plt\n",
    "import seaborn as sns\n",
    "\n",
    "plt.style.use(\"seaborn-v0_8-darkgrid\")\n"
   ]
  },
  {
   "cell_type": "code",
   "execution_count": null,
   "id": "3ee93354",
   "metadata": {},
   "outputs": [],
   "source": [
    "ticker = \"AAPL\"\n",
    "start_date = \"2023-01-01\"\n",
    "end_date = \"2023-12-31\"\n",
    "\n",
    "df = yf.download(ticker, start=start_date, end=end_date)\n",
    "df.dropna(inplace=True)\n",
    "df.head()\n"
   ]
  },
  {
   "cell_type": "code",
   "execution_count": null,
   "id": "c08346b3",
   "metadata": {},
   "outputs": [],
   "source": [
    "# Moving Average\n",
    "df[(\"SMA_20\", \"\")] = ta.sma(df[(\"Close\", \"AAPL\")], length=20)\n",
    "\n",
    "# Relative Strength Index\n",
    "df[(\"RSI_14\", \"\")] = ta.rsi(df[(\"Close\", \"AAPL\")], length=14)\n",
    "\n",
    "# MACD\n",
    "macd = ta.macd(df[(\"Close\", \"AAPL\")])\n",
    "df[(\"MACD\", \"\")] = macd[\"MACD_12_26_9\"]\n",
    "df[(\"Signal\", \"\")] = macd[\"MACDs_12_26_9\"]\n",
    "df[(\"Histogram\", \"\")] = macd[\"MACDh_12_26_9\"]\n"
   ]
  },
  {
   "cell_type": "code",
   "execution_count": null,
   "id": "56f98670",
   "metadata": {},
   "outputs": [],
   "source": [
    "plt.figure(figsize=(14,6))\n",
    "plt.plot(df[\"Close\"], label=\"Close Price\")\n",
    "plt.plot(df[\"SMA_20\"], label=\"SMA 20\", linestyle=\"--\")\n",
    "plt.title(\"AAPL Closing Price and SMA-20\")\n",
    "plt.legend()\n",
    "plt.show()\n"
   ]
  },
  {
   "cell_type": "code",
   "execution_count": null,
   "id": "e8a84f92",
   "metadata": {},
   "outputs": [],
   "source": [
    "plt.figure(figsize=(14,4))\n",
    "plt.plot(df[\"RSI_14\"], label=\"RSI-14\", color=\"purple\")\n",
    "plt.axhline(70, color=\"red\", linestyle=\"--\")\n",
    "plt.axhline(30, color=\"green\", linestyle=\"--\")\n",
    "plt.title(\"AAPL RSI (14-day)\")\n",
    "plt.legend()\n",
    "plt.show()\n"
   ]
  }
 ],
 "metadata": {
  "kernelspec": {
   "display_name": ".venv",
   "language": "python",
   "name": "python3"
  },
  "language_info": {
   "codemirror_mode": {
    "name": "ipython",
    "version": 3
   },
   "file_extension": ".py",
   "mimetype": "text/x-python",
   "name": "python",
   "nbconvert_exporter": "python",
   "pygments_lexer": "ipython3",
   "version": "3.12.7"
  }
 },
 "nbformat": 4,
 "nbformat_minor": 5
}
