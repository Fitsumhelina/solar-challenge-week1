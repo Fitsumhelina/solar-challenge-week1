{
 "cells": [
  {
   "cell_type": "code",
   "execution_count": null,
   "id": "e0df19c5",
   "metadata": {},
   "outputs": [],
   "source": [
    "import pandas as pd\n",
    "import numpy as np\n",
    "import yfinance as yf\n",
    "import matplotlib.pyplot as plt\n",
    "import seaborn as sns\n",
    "from textblob import TextBlob\n",
    "from scipy.stats import pearsonr\n",
    "\n",
    "plt.style.use(\"seaborn-darkgrid\")\n"
   ]
  },
  {
   "cell_type": "code",
   "execution_count": null,
   "id": "dc271344",
   "metadata": {},
   "outputs": [],
   "source": [
    "df_news = pd.read_csv(\"data/news_data.csv\", parse_dates=[\"date\"])\n",
    "df_news.head()\n"
   ]
  }
 ],
 "metadata": {
  "language_info": {
   "name": "python"
  }
 },
 "nbformat": 4,
 "nbformat_minor": 5
}
