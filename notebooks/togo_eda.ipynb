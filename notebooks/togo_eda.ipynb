{
 "cells": [
  {
   "cell_type": "code",
   "execution_count": null,
   "metadata": {},
   "outputs": [],
   "source": [
    "# 📦 Imports\n",
    "import pandas as pd\n",
    "import numpy as np\n",
    "import matplotlib.pyplot as plt\n",
    "import seaborn as sns\n",
    "from scipy.stats import zscore\n"
   ]
  },
  {
   "cell_type": "code",
   "execution_count": null,
   "id": "2980dda6",
   "metadata": {},
   "outputs": [],
   "source": [
    "# 📄 Load Data\n",
    "df = pd.read_csv(\"./../data//togo.csv\", parse_dates=[\"Timestamp\"])\n",
    "df.head()"
   ]
  },
  {
   "cell_type": "code",
   "execution_count": null,
   "id": "8b9a0e97",
   "metadata": {},
   "outputs": [],
   "source": [
    "# 📊 Summary Stats + Nulls\n",
    "print(df.describe())\n",
    "print(\"\\nMissing Values:\\n\", df.isna().sum())\n"
   ]
  },
  {
   "cell_type": "code",
   "execution_count": null,
   "id": "2b12fab4",
   "metadata": {},
   "outputs": [],
   "source": [
    "# 🔍 Outlier Detection\n",
    "cols_to_check = ['GHI', 'DNI', 'DHI', 'ModA', 'ModB', 'WS', 'WSgust']\n",
    "z_scores = df[cols_to_check].apply(zscore)\n",
    "outliers = (np.abs(z_scores) > 3).sum()\n",
    "print(\"\\nOutliers:\\n\", outliers)"
   ]
  },
  {
   "cell_type": "code",
   "execution_count": null,
   "id": "a779b59b",
   "metadata": {},
   "outputs": [],
   "source": [
    "# 🧹 Clean Data\n",
    "df_clean = df.copy()\n",
    "df_clean[cols_to_check] = df_clean[cols_to_check].fillna(df_clean[cols_to_check].median())\n",
    "df_clean = df_clean[(np.abs(z_scores) <= 3).all(axis=1)]\n"
   ]
  },
  {
   "cell_type": "code",
   "execution_count": null,
   "id": "f5070a31",
   "metadata": {},
   "outputs": [],
   "source": [
    "# 📈 Time Series Visuals\n",
    "df_clean.set_index(\"Timestamp\")[[\"GHI\", \"DNI\", \"DHI\", \"Tamb\"]].plot(figsize=(15,6))\n",
    "plt.title(\"Togo: Irradiance and Temperature Over Time\")\n",
    "plt.show()"
   ]
  },
  {
   "cell_type": "code",
   "execution_count": null,
   "id": "8be0d5b9",
   "metadata": {},
   "outputs": [],
   "source": [
    "\n",
    "# 🧽 Cleaning Effect\n",
    "df_clean.groupby(\"Cleaning\")[[\"ModA\", \"ModB\"]].mean().plot(kind=\"bar\")\n",
    "plt.title(\"Sensor Output Before vs After Cleaning (Togo)\")\n",
    "plt.show()"
   ]
  },
  {
   "cell_type": "code",
   "execution_count": null,
   "id": "c472d90d",
   "metadata": {},
   "outputs": [],
   "source": [
    "# ⚪ Bubble Plot\n",
    "plt.scatter(df_clean[\"Tamb\"], df_clean[\"GHI\"], s=df_clean[\"RH\"], alpha=0.5)\n",
    "plt.xlabel(\"Temperature\")\n",
    "plt.ylabel(\"GHI\")\n",
    "plt.title(\"GHI vs Tamb (Bubble Size = RH) – Togo\")\n",
    "plt.show()"
   ]
  },
  {
   "cell_type": "code",
   "execution_count": null,
   "id": "cd50ef70",
   "metadata": {},
   "outputs": [],
   "source": [
    "# 📁 Save Clean Data\n",
    "df_clean.to_csv(\"../data/togo_clean.csv\", index=False)# 📁 Save Clean Data\n",
    "df_clean.to_csv(\"../data/togo_clean.csv\", index=False)"
   ]
  }
 ],
 "metadata": {
  "kernelspec": {
   "display_name": "Python 3",
   "language": "python",
   "name": "python3"
  },
  "language_info": {
   "name": "python",
   "version": "3.12.7"
  }
 },
 "nbformat": 4,
 "nbformat_minor": 5
}
